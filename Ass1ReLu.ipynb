{
  "nbformat": 4,
  "nbformat_minor": 0,
  "metadata": {
    "colab": {
      "name": "Ass1ReLu.ipynb",
      "provenance": [],
      "collapsed_sections": []
    },
    "kernelspec": {
      "name": "python3",
      "display_name": "Python 3"
    },
    "accelerator": "TPU"
  },
  "cells": [
    {
      "cell_type": "code",
      "metadata": {
        "id": "psjyiXLr5seN",
        "colab_type": "code",
        "colab": {}
      },
      "source": [
        "%tensorflow_version 2.x\n",
        "\n",
        "import tensorflow as tf\n",
        "import numpy as np\n",
        "import matplotlib.pyplot as plt\n",
        "import os\n",
        "os.getcwd()\n",
        "os.chdir(\"/content/drive/My Drive/Colab Notebooks\") \n",
        "from datasets import MNISTDataset"
      ],
      "execution_count": 0,
      "outputs": []
    },
    {
      "cell_type": "code",
      "metadata": {
        "id": "YqFzzEC6aA2m",
        "colab_type": "code",
        "colab": {
          "base_uri": "https://localhost:8080/",
          "height": 124
        },
        "outputId": "851aa52d-fbe4-4f55-a878-f2b27e1ef6ef"
      },
      "source": [
        "from google.colab import drive\n",
        "drive.mount('/content/drive')"
      ],
      "execution_count": 2,
      "outputs": [
        {
          "output_type": "stream",
          "text": [
            "Go to this URL in a browser: https://accounts.google.com/o/oauth2/auth?client_id=947318989803-6bn6qk8qdgf4n4g3pfee6491hc0brc4i.apps.googleusercontent.com&redirect_uri=urn%3aietf%3awg%3aoauth%3a2.0%3aoob&response_type=code&scope=email%20https%3a%2f%2fwww.googleapis.com%2fauth%2fdocs.test%20https%3a%2f%2fwww.googleapis.com%2fauth%2fdrive%20https%3a%2f%2fwww.googleapis.com%2fauth%2fdrive.photos.readonly%20https%3a%2f%2fwww.googleapis.com%2fauth%2fpeopleapi.readonly\n",
            "\n",
            "Enter your authorization code:\n",
            "··········\n",
            "Mounted at /content/drive\n"
          ],
          "name": "stdout"
        }
      ]
    },
    {
      "cell_type": "code",
      "metadata": {
        "id": "ot94ZogJQ__b",
        "colab_type": "code",
        "outputId": "f59befbd-2054-45dd-f409-2fc5766d646a",
        "colab": {
          "base_uri": "https://localhost:8080/",
          "height": 317
        }
      },
      "source": [
        "mnist = tf.keras.datasets.mnist\n",
        "(train_images, train_labels), (test_images, test_labels) = mnist.load_data()\n",
        "\n",
        "plt.imshow(train_images[468], cmap=\"Greys_r\")"
      ],
      "execution_count": 4,
      "outputs": [
        {
          "output_type": "stream",
          "text": [
            "Downloading data from https://storage.googleapis.com/tensorflow/tf-keras-datasets/mnist.npz\n",
            "11493376/11490434 [==============================] - 0s 0us/step\n"
          ],
          "name": "stdout"
        },
        {
          "output_type": "execute_result",
          "data": {
            "text/plain": [
              "<matplotlib.image.AxesImage at 0x7f0d9d477390>"
            ]
          },
          "metadata": {
            "tags": []
          },
          "execution_count": 4
        },
        {
          "output_type": "display_data",
          "data": {
            "image/png": "[encoded data removed]",
            "text/plain": [
              "<Figure size 432x288 with 1 Axes>"
            ]
          },
          "metadata": {
            "tags": [],
            "needs_background": "light"
          }
        }
      ]
    },
    {
      "cell_type": "code",
      "metadata": {
        "id": "z47pOLohRr2R",
        "colab_type": "code",
        "outputId": "b069f5cf-2484-443e-a496-1059a8d177e0",
        "colab": {
          "base_uri": "https://localhost:8080/",
          "height": 35
        }
      },
      "source": [
        "#reshaping data\n",
        "data = MNISTDataset(train_images.reshape([-1,784]),train_labels,\n",
        "                    test_images.reshape([-1,784]),test_labels, batch_size=128) \n",
        "print(tf.shape(train_labels))\n"
      ],
      "execution_count": 6,
      "outputs": [
        {
          "output_type": "stream",
          "text": [
            "tf.Tensor([60000], shape=(1,), dtype=int32)\n"
          ],
          "name": "stdout"
        }
      ]
    },
    {
      "cell_type": "code",
      "metadata": {
        "id": "1ZMeolJ0V060",
        "colab_type": "code",
        "colab": {}
      },
      "source": [
        "#training\n",
        "train_steps = 1000\n",
        "learning_rate = 0.1\n",
        "\n",
        "w_in = tf.Variable(tf.random.uniform([784,112],minval= -0.1,maxval= 0.1,dtype = np.float32))\n",
        "b_in = tf.Variable(np.zeros(112,dtype= np.float32))\n",
        "w_hid = tf.Variable(tf.random.uniform([112,10],minval= -0.1,maxval= 0.1,dtype = np.float32))\n",
        "b_hid = tf.Variable(np.zeros(10,dtype=np.float32))\n"
      ],
      "execution_count": 0,
      "outputs": []
    },
    {
      "cell_type": "code",
      "metadata": {
        "id": "GlFO7f5Fa5H8",
        "colab_type": "code",
        "outputId": "6c7e1a11-beeb-4be1-c4ab-a3c0966aa65e",
        "colab": {
          "base_uri": "https://localhost:8080/",
          "height": 225
        }
      },
      "source": [
        "for step in range(train_steps):\n",
        "  img_batch , lbl_batch = data.next_batch()\n",
        "  with tf.GradientTape(persistent=True) as tape:\n",
        "    logits_hid = tf.matmul(img_batch,w_in) + b_in\n",
        "    #print(logits_hid)\n",
        "    op_hid = tf.nn.relu(logits_hid)\n",
        "    #print(op_hid)\n",
        "    logits_out = tf.matmul(op_hid, w_hid) + b_hid\n",
        "\n",
        "    xent_out = tf.reduce_mean(tf.nn.sparse_softmax_cross_entropy_with_logits(logits=logits_out, labels= lbl_batch))\n",
        "    xent_hid = tf.multiply(w_hid,xent_out)\n",
        "        \n",
        "  grads_out = tape.gradient(xent_out, [w_hid,b_hid])\n",
        "  grads_hid = tape.gradient(xent_hid, [w_in,b_in])\n",
        "  w_hid.assign_sub(learning_rate * grads_out[0])\n",
        "  b_hid.assign_sub(learning_rate * grads_out[1])\n",
        "  w_in.assign_sub(learning_rate * grads_hid[0])\n",
        "  b_in.assign_sub(learning_rate * grads_hid[1])\n",
        "\n",
        "\n",
        "\n",
        "  if not step % 100:\n",
        "    preds = tf.argmax(logits_out, axis= 1 , output_type=tf.int32)\n",
        "    acc = tf.reduce_mean(tf.cast(tf.equal(preds, lbl_batch),tf.float64))\n",
        "    print(\"Loss : {} Accuracy : {}\".format(xent_out, acc))"
      ],
      "execution_count": 8,
      "outputs": [
        {
          "output_type": "stream",
          "text": [
            "Loss : 2.291318893432617 Accuracy : 0.125\n",
            "Loss : 0.49375656247138977 Accuracy : 0.875\n",
            "Loss : 0.3195691704750061 Accuracy : 0.90625\n",
            "Loss : 0.24144400656223297 Accuracy : 0.9296875\n",
            "Loss : 0.22254371643066406 Accuracy : 0.9453125\n",
            "Starting new epoch...\n",
            "Loss : 0.32033973932266235 Accuracy : 0.921875\n",
            "Loss : 0.2570001482963562 Accuracy : 0.90625\n",
            "Loss : 0.27587637305259705 Accuracy : 0.9375\n",
            "Loss : 0.2671993374824524 Accuracy : 0.9453125\n",
            "Loss : 0.19772227108478546 Accuracy : 0.9609375\n",
            "Starting new epoch...\n"
          ],
          "name": "stdout"
        }
      ]
    },
    {
      "cell_type": "code",
      "metadata": {
        "id": "U10IsS6pEJ3w",
        "colab_type": "code",
        "outputId": "f8d97a77-0be5-4b67-b8f0-48c817eaa2f5",
        "colab": {
          "base_uri": "https://localhost:8080/",
          "height": 35
        }
      },
      "source": [
        "test_pred_inter = tf.nn.relu(tf.matmul(data.test_data, w_in) + b_in)  \n",
        "test_preds = tf.argmax(tf.matmul(test_pred_inter, w_hid) + b_hid, axis=1,\n",
        "                       output_type=tf.int32)\n",
        "acc = tf.reduce_mean(tf.cast(tf.equal(test_preds, data.test_labels),\n",
        "                             tf.float64))\n",
        "print(acc)"
      ],
      "execution_count": 9,
      "outputs": [
        {
          "output_type": "stream",
          "text": [
            "tf.Tensor(0.9367, shape=(), dtype=float64)\n"
          ],
          "name": "stdout"
        }
      ]
    }
  ]
}