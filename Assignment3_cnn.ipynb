{
  "nbformat": 4,
  "nbformat_minor": 0,
  "metadata": {
    "colab": {
      "name": "cnn.ipynb",
      "provenance": [],
      "collapsed_sections": []
    },
    "kernelspec": {
      "name": "python3",
      "display_name": "Python 3"
    },
    "accelerator": "GPU"
  },
  "cells": [
    {
      "cell_type": "code",
      "metadata": {
        "id": "VGlPfrD06C-u",
        "colab_type": "code",
        "colab": {},
        "cellView": "form"
      },
      "source": [
        "#@title Libraries\n",
        "%tensorflow_version 2.x\n",
        "import tensorflow as tf\n",
        "from tensorflow import keras\n",
        "#from tensorflow.keras import Sequential\n",
        "#from tensorflow.keras.layers import Flatten, Dense, MaxPool2D\n",
        "\n",
        "import numpy as np\n",
        "import matplotlib.pyplot as plt\n",
        "import os\n",
        "\n",
        "os.getcwd()\n",
        "os.chdir(\"/content/drive/My Drive/Colab Notebooks\")"
      ],
      "execution_count": 0,
      "outputs": []
    },
    {
      "cell_type": "code",
      "metadata": {
        "id": "oIBYYJ_i78pY",
        "colab_type": "code",
        "colab": {},
        "cellView": "form"
      },
      "source": [
        "#@title MNIST: Train accuracy: 96.66, Test accuracy: 98.67\n",
        "\n",
        "mnist = keras.datasets.mnist\n",
        "(train_images, train_labels), (test_images, test_labels) =mnist.load_data() \n",
        "# print(train_labels[0])\n",
        "# plt.imshow(train_images[0], cmap= 'Greys_r')\n",
        "data = tf.data.Dataset.from_tensor_slices(\n",
        "    (train_images.reshape([-1,28,28,1]).astype(np.float32)/255,train_labels.astype(np.int32)))\n",
        "data_mnist = data.shuffle(buffer_size =120000).batch(128).repeat(4)\n",
        "\n",
        "test_data_mnist = tf.data.Dataset.from_tensor_slices(\n",
        "    (test_images.reshape([-1,28,28,1]).astype(np.float32)/255, test_labels.astype(np.int32))).batch(128)\n"
      ],
      "execution_count": 0,
      "outputs": []
    },
    {
      "cell_type": "code",
      "metadata": {
        "id": "zlwNV8kXiNDT",
        "colab_type": "code",
        "colab": {},
        "cellView": "form"
      },
      "source": [
        "#@title Fashion MNIST: Train accuracy : 96.21, Test accuracy : 98.08\n",
        "fashion_mnist = keras.datasets.fashion_mnist\n",
        "(train_images, train_labels), (test_images, test_labels) =mnist.load_data() \n",
        "# print(train_labels[0])\n",
        "# plt.imshow(train_images[0], cmap= 'Greys_r')\n",
        "data = tf.data.Dataset.from_tensor_slices(\n",
        "    (train_images.reshape([-1,28,28,1]).astype(np.float32)/255,train_labels.astype(np.int32)))\n",
        "data_fmnist = data.shuffle(buffer_size =120000).batch(128).repeat(4)\n",
        "\n",
        "test_data_fmnist = tf.data.Dataset.from_tensor_slices(\n",
        "    (test_images.reshape([-1,28,28,1]).astype(np.float32)/255, test_labels.astype(np.int32))).batch(128)"
      ],
      "execution_count": 0,
      "outputs": []
    },
    {
      "cell_type": "code",
      "metadata": {
        "id": "2m0zInal8fOj",
        "colab_type": "code",
        "colab": {},
        "cellView": "form"
      },
      "source": [
        "#@title Model for MNIST and Fashion MNIST\n",
        "model_mnist = keras.Sequential([keras.layers.Conv2D(filters= 16,kernel_size=[5,5],kernel_initializer = keras.initializers.RandomUniform(minval=-0.05, maxval=0.05, seed=None),use_bias = True,bias_initializer='zeros',padding = 'same',activation = 'relu',input_shape=(28,28,1)),\n",
        "                          keras.layers.MaxPool2D(pool_size=(2,2),padding='same'),\n",
        "                          keras.layers.Conv2D(filters= 32,kernel_size=[5,5],kernel_initializer = keras.initializers.RandomUniform(minval=-0.05, maxval=0.05, seed=None),use_bias = True,bias_initializer='zeros',padding = 'same',activation = 'relu'),\n",
        "                          keras.layers.MaxPool2D(pool_size=(2,2),padding='same'),\n",
        "                          keras.layers.Flatten(),\n",
        "                          keras.layers.Dense(10,use_bias= True,bias_initializer='zeros' )\n",
        "                          ])"
      ],
      "execution_count": 0,
      "outputs": []
    },
    {
      "cell_type": "markdown",
      "metadata": {
        "id": "Wz_mvHgWyiDV",
        "colab_type": "text"
      },
      "source": [
        "Observations on CIFAR\n",
        "\n",
        "1. con(32,5,5), MaxPool(2,2),con(64,5,5),MaxPool(2,2), con(64,5,5),Dense(64), Dense(10), all weights initilized (-0.05,0.05): Train accuracy: 52.71%\n",
        "\n",
        "2. con(32,5,5), MaxPool(2,2),con(64,5,5),MaxPool(2,2), con(64,5,5),Dense(64), Dense(10), all cov weights initilized (-0.05,0.05) and dense weights (-0.1:0.1): Train accuracy:Train accuracy: 57.33%\n",
        "\n",
        "3. con(32,5,5), MaxPool(2,2),con(64,5,5),MaxPool(2,2), con(64,5,5),Dense(64), Dense(10), all cov weights initilized (-0.1,0.1) and dense weights (-0.1:0.1): Train accuracy:Train accuracy :61.34 %\n",
        "\n",
        "4. con(32,5,5), MaxPool(2,2),con(64,5,5),MaxPool(2,2), con(64,5,5),Dense(64), Dense(10), all cov weights initilized (-1,1) and dense weights (-0.1:0.1): Train accuracy: Train accuracy: 10%\n",
        "\n",
        "5. con(32,5,5), MaxPool(2,2),con(64,5,5),MaxPool(2,2), con(64,5,5),Dense(64), Dense(10), all cov weights initilized (-0.5,0.5) and dense weights (-0.1:0.1): Train accuracy: Train accuracy: 24.43%\n",
        "\n",
        "upto here, all activation was relu in every layer.\n",
        "\n",
        "6. con(32,5,5), MaxPool(2,2),con(64,5,5),MaxPool(2,2), con(64,5,5),Dense(64), Dense(10), all cov weights initilized (-0.1,0.1) and dense weights (-0.1:0.1), all cov activation as tanh: Train accuracy: 59.49 %\n",
        "\n",
        "7. con(32,5,5), MaxPool(2,2),con(64,5,5),MaxPool(2,2), con(64,5,5),Dense(64), Dense(10), all cov weights initilized (-0.1,0.1) and dense weights (-0.1:0.1), all dense activation as tanh: Train accuracy: 61.9 %\n",
        "\n",
        " "
      ]
    },
    {
      "cell_type": "code",
      "metadata": {
        "id": "oEOXLG85mi70",
        "colab_type": "code",
        "colab": {},
        "cellView": "form"
      },
      "source": [
        "#@title CIFAR10 Train accuracy: , Test accuracy: \n",
        "cifar10 = keras.datasets.cifar10\n",
        "(train_images, train_labels), (test_images, test_labels) =cifar10.load_data() \n",
        "# print(train_labels[0])\n",
        "# plt.imshow(train_images[0], cmap= 'Greys_r')\n",
        "data = tf.data.Dataset.from_tensor_slices(\n",
        "    (train_images.reshape([-1,32,32,3]).astype(np.float32)/255,train_labels.reshape([-1,]).astype(np.int32)))\n",
        "data_cifar10 = data.shuffle(buffer_size =120000).batch(128).repeat(4)\n",
        "\n",
        "test_data_cifar10 = tf.data.Dataset.from_tensor_slices(\n",
        "    (test_images.reshape([-1,32,32,3]).astype(np.float32)/255, test_labels.reshape([-1,]).astype(np.int32))).batch(128)"
      ],
      "execution_count": 0,
      "outputs": []
    },
    {
      "cell_type": "code",
      "metadata": {
        "id": "3Bgf8Xi_ntwQ",
        "colab_type": "code",
        "colab": {},
        "cellView": "code"
      },
      "source": [
        "#@title Model for CIFAR\n",
        "model_cifar = keras.Sequential([keras.layers.Conv2D(filters= 32,kernel_size=[5,5],kernel_initializer = keras.initializers.RandomUniform(minval=-0.1, maxval=0.1, seed=None),use_bias = True,bias_initializer='zeros',padding = 'same',activation = 'relu',input_shape=(32,32,3)),\n",
        "                          keras.layers.MaxPool2D(pool_size=(2,2),padding='same'),\n",
        "                          keras.layers.Conv2D(filters= 64,kernel_size=[5,5],kernel_initializer = keras.initializers.RandomUniform(minval=-0.1, maxval=0.1, seed=None),use_bias = True,bias_initializer='zeros',padding = 'same',activation = 'relu'),\n",
        "                          keras.layers.MaxPool2D(pool_size=(2,2),padding='same'),\n",
        "                          keras.layers.Conv2D(filters= 64,kernel_size=[5,5],kernel_initializer = keras.initializers.RandomUniform(minval=-0.1, maxval=0.1, seed=None),use_bias = True,bias_initializer='zeros',padding = 'same',activation = 'relu'),\n",
        "                          keras.layers.Flatten(),\n",
        "                          keras.layers.Dense(64,kernel_initializer = keras.initializers.RandomUniform(minval=-0.1, maxval=0.1, seed=None),use_bias= True,bias_initializer='zeros', activation='tanh' ),\n",
        "                          keras.layers.Dense(10,kernel_initializer = keras.initializers.RandomUniform(minval=-0.1, maxval=0.1, seed=None),use_bias= True,bias_initializer='zeros' )\n",
        "                          ])"
      ],
      "execution_count": 0,
      "outputs": []
    },
    {
      "cell_type": "code",
      "metadata": {
        "id": "durgY-1p-XTm",
        "colab_type": "code",
        "colab": {}
      },
      "source": [
        "model_cifar.compile(optimizer= 'adam',\n",
        "              loss = tf.keras.losses.SparseCategoricalCrossentropy(from_logits= True),\n",
        "              metrics = ['accuracy'])"
      ],
      "execution_count": 0,
      "outputs": []
    },
    {
      "cell_type": "code",
      "metadata": {
        "id": "uxC2EimdVy5a",
        "colab_type": "code",
        "colab": {
          "base_uri": "https://localhost:8080/",
          "height": 52
        },
        "outputId": "58911283-3009-4b24-e032-3cf408c890e6"
      },
      "source": [
        "model_cifar.fit(data_cifar10)"
      ],
      "execution_count": 21,
      "outputs": [
        {
          "output_type": "stream",
          "text": [
            "1564/1564 [==============================] - 28s 18ms/step - loss: 1.0727 - accuracy: 0.6190\n"
          ],
          "name": "stdout"
        },
        {
          "output_type": "execute_result",
          "data": {
            "text/plain": [
              "<tensorflow.python.keras.callbacks.History at 0x7fd49d9bf320>"
            ]
          },
          "metadata": {
            "tags": []
          },
          "execution_count": 21
        }
      ]
    },
    {
      "cell_type": "code",
      "metadata": {
        "id": "QssohOlCdR0c",
        "colab_type": "code",
        "colab": {}
      },
      "source": [
        "accuracy = []\n",
        "for img_batch, lbl_batch in test_data_cifar10:\n",
        "    test_loss, test_accuracy = model.evaluate(test_data)\n",
        "    acc = test_accuracy\n",
        "    accuracy.append(acc)\n",
        "print(np.mean(accuracy))\n",
        "\n",
        "    #print('\\n Test accuracy: ', test_accuracy)"
      ],
      "execution_count": 0,
      "outputs": []
    }
  ]
}