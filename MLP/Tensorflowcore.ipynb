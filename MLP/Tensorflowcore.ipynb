{
  "nbformat": 4,
  "nbformat_minor": 0,
  "metadata": {
    "colab": {
      "name": "Tensorflowcore",
      "provenance": [],
      "collapsed_sections": []
    },
    "kernelspec": {
      "name": "python3",
      "display_name": "Python 3"
    },
    "accelerator": "GPU"
  },
  "cells": [
    {
      "cell_type": "code",
      "metadata": {
        "id": "epZ923121MeN",
        "colab_type": "code",
        "colab": {}
      },
      "source": [
        "%tensorflow_version 2.x\n",
        "import tensorflow as tf\n"
      ],
      "execution_count": 0,
      "outputs": []
    },
    {
      "cell_type": "code",
      "metadata": {
        "id": "bApF2hhr1sjp",
        "colab_type": "code",
        "cellView": "both",
        "colab": {}
      },
      "source": [
        "#@title 1\n",
        "@tf.function\n",
        "def top_k(input_tensor, k):\n",
        "  return tf.math.top_k(input_tensor, k).values\n",
        "\n",
        "a = tf.constant([[1,2,3], [4,5,6], [7,8,9]])\n",
        "k = 1\n",
        "print(top_k(a,k))\n"
      ],
      "execution_count": 0,
      "outputs": []
    },
    {
      "cell_type": "code",
      "metadata": {
        "id": "xLZjOz4-jEHh",
        "colab_type": "code",
        "cellView": "both",
        "colab": {}
      },
      "source": [
        "#@title 2\n",
        "def arg_max_tensor(a):\n",
        "  b = tf.math.top_k(a,k=1).indices\n",
        "\n",
        "  c = tf.TensorArray(tf.int32, size= 0, dynamic_size= True)\n",
        "  for i in tf.range(tf.shape(a)[0]): \n",
        "\n",
        "    indices = b[i]\n",
        "    indices = tf.expand_dims(indices,0) \n",
        "    print(indices)\n",
        "    updates = tf.Variable([1])  \n",
        "    shape = tf.Variable([tf.shape(a)[1]]) \n",
        "\n",
        "    scatter = tf.scatter_nd(indices, updates, shape)\n",
        "    c.write(i,scatter).mark_used()\n",
        "\n",
        "  return c.stack()\n",
        "\n",
        "a = tf.Variable([[3,2,3],[4,6,5],[7,8,9],[11,12,13]])\n",
        "m = arg_max_tensor(a)\n",
        "print(m)\n"
      ],
      "execution_count": 0,
      "outputs": []
    },
    {
      "cell_type": "code",
      "metadata": {
        "id": "4GwWHba9mmEa",
        "colab_type": "code",
        "cellView": "form",
        "colab": {}
      },
      "source": [
        "#@title 3\n",
        "def arg_k_max_tensor(a,k):\n",
        "  \n",
        "  b = tf.math.top_k(a,k=k).indices\n",
        "  c = tf.TensorArray(tf.int32, size= 0, dynamic_size= True)\n",
        "\n",
        "  for i in tf.range(tf.shape(a)[0]): \n",
        "\n",
        "    indices = b[i]\n",
        "    indices = tf.expand_dims(indices,0)\n",
        "    \n",
        "    d = tf.TensorArray(tf.int32, size= 0, dynamic_size= True)\n",
        "    for j in tf.range(tf.shape(indices)[1]):\n",
        "      d.write(j, [indices[0][j]]).mark_used()\n",
        "    d = d.stack()\n",
        "    \n",
        "    updates = tf.Variable(tf.ones(dtype= tf.int32,shape = tf.shape(d)[0]))    \n",
        "    shape = tf.Variable([tf.shape(a)[1]])  \n",
        "    scatter = tf.scatter_nd(d, updates, shape)\n",
        "    c.write(i,scatter).mark_used()\n",
        "\n",
        "  return c.stack()\n",
        "\n",
        "\n",
        "a = tf.Variable([[1000,1,0,2,3],[4,5,6,2,1],[7,8,9,88,99],[10,11,12,13,14]])\n",
        "k = 3\n",
        "print(arg_k_max_tensor(a,k))\n",
        "\n",
        "\n",
        "\n",
        "\n"
      ],
      "execution_count": 0,
      "outputs": []
    },
    {
      "cell_type": "code",
      "metadata": {
        "id": "gZOYo5od6F65",
        "colab_type": "code",
        "cellView": "both",
        "colab": {}
      },
      "source": [
        "#@title 4\n",
        "\n",
        "def exp_moving(a, decay_rate):\n",
        "  b = tf.TensorArray(dtype = tf.float32, size= 0, dynamic_size= True)\n",
        "  decay_rate = tf.Variable(decay_rate, dtype= tf.float32)\n",
        "  \n",
        "\n",
        "  for i in tf.range(0,tf.shape(a), delta=1):\n",
        "    if i == 0:\n",
        "      b.write(i,a[i]).mark_used()\n",
        "    else:\n",
        "      m = tf.math.multiply(decay_rate,b.stack()[i-1])\n",
        "      \n",
        "      n = tf.math.multiply((1-decay_rate),a[i])\n",
        "      \n",
        "      c = m + n \n",
        "      b.write(i,c).mark_used()\n",
        "  return b.stack()\n",
        "\n",
        "a = tf.Variable([100,200, 300], dtype= tf.float32)\n",
        "#print(a)\n",
        "decay_rate = 0.33\n",
        "tf.print(exp_moving(a, decay_rate))\n",
        "\n"
      ],
      "execution_count": 0,
      "outputs": []
    },
    {
      "cell_type": "code",
      "metadata": {
        "id": "jF7fK0_qLtkJ",
        "colab_type": "code",
        "cellView": "form",
        "colab": {}
      },
      "source": [
        "#@title 4 with tf function\n",
        "b = tf.TensorArray(dtype = tf.float32, size= 0, dynamic_size= True)\n",
        "@tf.function\n",
        "def exp_moving(a, decay_rate):\n",
        "  \n",
        "  decay_rate = tf.Variable(decay_rate, dtype= tf.float32)\n",
        "  sh = tf.convert_to_tensor(tf.shape(a)[0])\n",
        "  #print(sh)\n",
        "\n",
        "  for i in tf.range(0,sh, delta=1):\n",
        "    \n",
        "   \n",
        "    def f1(): b.write(i,a[i]).mark_used()\n",
        "    \n",
        "    \n",
        "    def f2(): \n",
        "      m = tf.math.multiply(decay_rate,b.stack()[i-1])      \n",
        "      n = tf.math.multiply((1-decay_rate),a[i])      \n",
        "      c = m + n \n",
        "      b.write(i,c).mark_used()\n",
        "   \n",
        "    tf.cond(i==0, f1,f2)\n",
        "   \n",
        "    \n",
        "    # if i == 0:\n",
        "    #   b.write(i,a[i]).mark_used()\n",
        "    # else:\n",
        "    #   m = tf.math.multiply(decay_rate,b.stack()[i-1])\n",
        "      \n",
        "    #   n = tf.math.multiply((1-decay_rate),a[i])\n",
        "      \n",
        "    #   c = m + n \n",
        "    #   b.write(i,c).mark_used()\n",
        "  return b.stack()\n",
        "\n",
        "a = tf.Variable([100,200, 300], dtype= tf.float32)\n",
        "#print(a)\n",
        "decay_rate = 0.33\n",
        "tf.print(exp_moving(a, decay_rate))"
      ],
      "execution_count": 0,
      "outputs": []
    },
    {
      "cell_type": "code",
      "metadata": {
        "id": "RFlHS0OzSbOy",
        "colab_type": "code",
        "cellView": "both",
        "colab": {}
      },
      "source": [
        "#@title 5\n",
        "a = tf.Variable([100,200,300], dtype= tf.float32)\n",
        "rate = 0.5\n",
        "\n",
        "decay_rate = tf.Variable(rate, dtype= tf.float32)\n",
        "n = tf.cast(tf.shape(a)[0], dtype= tf.float32)\n",
        "print(n)\n",
        "b = tf.math.multiply(tf.math.pow(decay_rate,n),a [0])\n",
        "print(b)\n",
        "r = tf.range(1,n)\n",
        "\n",
        "# def sum(decay_rate, n):\n",
        "#   return tf.math.reduce_sum(tf.map_fn(lambda i :tf.math.multiply(tf.math.multiply(tf.math.pow(decay_rate,n-i),1-decay_rate),i) ,(a, tf.range(1,n))))\n",
        "# c = sum(decay_rate, n)\n",
        "# print(c)\n",
        "\n"
      ],
      "execution_count": 0,
      "outputs": []
    },
    {
      "cell_type": "code",
      "metadata": {
        "id": "ayoOWqXTdfYV",
        "colab_type": "code",
        "colab": {}
      },
      "source": [
        "mysum(t, N):\n",
        "    return sum(map(lambda n : sin(t*n*n), range(N))"
      ],
      "execution_count": 0,
      "outputs": []
    },
    {
      "cell_type": "code",
      "metadata": {
        "id": "2vmmlnEXVMgG",
        "colab_type": "code",
        "cellView": "both",
        "colab": {}
      },
      "source": [
        "#@title 6\n",
        "def odd_eve(x,y,z):\n",
        "\n",
        "  m = tf.TensorArray(dtype= tf.float32, size= 0, dynamic_size= True)\n",
        "  if tf.shape(x).shape == 1:\n",
        "    for i in tf.range(tf.shape(x)[0]):\n",
        "      if (x[i]%2 == 0):\n",
        "        m.write(i,y[i]).mark_used()\n",
        "      else:\n",
        "        m.write(i, z[i]).mark_used()\n",
        "  else:\n",
        "\n",
        "    for i in tf.range(tf.shape(x)[0]):\n",
        "      n = tf.TensorArray(dtype= tf.float32, size= 0, dynamic_size= True)\n",
        "      for j in tf.range(tf.shape(x)[1]):\n",
        "        if (x[i][j]% 2 == 0):\n",
        "          n.write(j,y[i][j]).mark_used()\n",
        "        else:\n",
        "          n.write(j,z[i][j]).mark_used()\n",
        "      n = n.stack()\n",
        "      m.write(i,n).mark_used()\n",
        "\n",
        "  return m.stack()\n",
        "\n",
        "x = tf.Variable([[1,2,3],[4,5,6],[7,8,9]], dtype= tf.float32)\n",
        "y = tf.Variable([[10,11,12],[13,14,15],[16,17,18]], dtype= tf.float32)\n",
        "z = tf.Variable([[19,20,21],[22,23,24],[25,26,27]], dtype= tf.float32)\n",
        "\n",
        "print(odd_eve(x,y,z))\n",
        "\n",
        "\n",
        "\n"
      ],
      "execution_count": 0,
      "outputs": []
    },
    {
      "cell_type": "code",
      "metadata": {
        "id": "AZ8AfIozco3F",
        "colab_type": "code",
        "cellView": "form",
        "colab": {}
      },
      "source": [
        "#@title 7\n",
        "def last_dim(x):\n",
        "  if tf.shape(x)[-1] > 100:\n",
        "     return 100\n",
        "  elif tf.shape(x)[-1] >44:\n",
        "     return 12\n",
        "  else:\n",
        "    return 0\n",
        " \n",
        "x = tf.Variable(tf.zeros(shape = (100,44,55,66)))\n",
        "print(last_dim(x))\n"
      ],
      "execution_count": 0,
      "outputs": []
    },
    {
      "cell_type": "code",
      "metadata": {
        "id": "TLuqO6y6nvtG",
        "colab_type": "code",
        "cellView": "form",
        "colab": {}
      },
      "source": [
        "#@title 8\n",
        "count_100 = 0\n",
        "count_44 = 0\n",
        "count_0 = 0"
      ],
      "execution_count": 0,
      "outputs": []
    },
    {
      "cell_type": "code",
      "metadata": {
        "id": "vspwfVdJjZp5",
        "colab_type": "code",
        "cellView": "form",
        "colab": {}
      },
      "source": [
        "#@title 8\n",
        "\n",
        "def last_dim(x):\n",
        "  if tf.shape(x)[-1] > 100:\n",
        "    global count_100\n",
        "    count_100 = count_100 + 1\n",
        "    return 100\n",
        "  elif tf.shape(x)[-1] >44:\n",
        "    global count_44\n",
        "    count_44 = count_44 + 1\n",
        "    return 12\n",
        "  else:\n",
        "    global count_0\n",
        "    count_0 = count_0 + 1\n",
        "    return 0\n",
        "\n",
        "\n",
        " \n",
        "x = tf.Variable(tf.zeros(shape = (100,44,55,101)))\n",
        "print(last_dim(x))\n",
        "print(\"Count100 :\", count_100)\n",
        "print(\"Count44 :\", count_44)\n",
        "print(\"Count0 :\", count_0)\n"
      ],
      "execution_count": 0,
      "outputs": []
    },
    {
      "cell_type": "code",
      "metadata": {
        "id": "JRhmqUxmqARh",
        "colab_type": "code",
        "cellView": "form",
        "colab": {}
      },
      "source": [
        "#@title 9\n",
        "@tf.function\n",
        "def broad_cast(a,b):\n",
        "  return a- tf.reshape(b,[tf.shape(b)[0],1])\n",
        "\n",
        "\n",
        "a = tf.Variable([1,2,3], dtype = tf.float32)\n",
        "b = tf.Variable([4,5,6], dtype = tf.float32)\n",
        "\n",
        "print(broad_cast(a,b))\n"
      ],
      "execution_count": 0,
      "outputs": []
    },
    {
      "cell_type": "code",
      "metadata": {
        "id": "uZNOd8b2xMYV",
        "colab_type": "code",
        "cellView": "form",
        "colab": {}
      },
      "source": [
        "#@title 10\n",
        "encoder_states = tf.Variable([[[1,1,1,1],[2,2,2,2],[3,3,3,3],[4,4,4,4]],[[5,5,5,5],[6,6,6,6],[7,7,7,7],[8,8,8,8]],[[9,9,9,9],[10,10,10,10],[11,11,11,11],[12,12,12,12]]] ,dtype= tf.float32)\n",
        "#print(tf.shape(encoder_states))\n",
        "decoder_state = tf.Variable(tf.ones((4,4)), dtype= tf.float32)\n",
        "#print(tf.shape(decoder_state))\n",
        "alpha = tf.tensordot(encoder_states, decoder_state, axes= [[-1],[-1]])\n",
        "alpha = tf.reduce_mean(alpha, axis=2)\n",
        "#print(tf.shape(alpha))\n",
        "print(alpha)"
      ],
      "execution_count": 0,
      "outputs": []
    }
  ]
}